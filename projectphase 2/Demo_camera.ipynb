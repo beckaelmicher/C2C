{
 "cells": [
  {
   "cell_type": "markdown",
   "id": "d984f1f8-fe56-4747-8706-5834d1c06f67",
   "metadata": {},
   "source": [
    "## Demo Class Camera"
   ]
  },
  {
   "cell_type": "code",
   "execution_count": null,
   "id": "80311e75-c7ce-475e-8c5e-3b926a2c8fef",
   "metadata": {
    "tags": []
   },
   "outputs": [],
   "source": [
    "from basisklassen_cam import Camera\n",
    "import matplotlib.pylab as plt"
   ]
  },
  {
   "cell_type": "code",
   "execution_count": null,
   "id": "00b36615-f4ff-4c9a-963e-32f1b4b7b6f4",
   "metadata": {
    "tags": []
   },
   "outputs": [],
   "source": [
    "Camera?"
   ]
  },
  {
   "cell_type": "markdown",
   "id": "922987f6-1299-4fd5-b8ff-a749c0306813",
   "metadata": {},
   "source": [
    "### Simple usage with default parameters with get_frame and release"
   ]
  },
  {
   "cell_type": "code",
   "execution_count": null,
   "id": "43c48e16-7fed-4e19-8905-65f64c214654",
   "metadata": {
    "tags": []
   },
   "outputs": [],
   "source": [
    "cam = Camera()\n",
    "img = cam.get_frame()\n",
    "cam.release()\n",
    "plt.imshow(img)\n",
    "\n",
    "print('Return value of get_frame:',type(img))\n",
    "print('Shape of NumPy-Array:',img.shape)"
   ]
  },
  {
   "cell_type": "markdown",
   "id": "35dc5871-ebca-423a-807f-54c353c25099",
   "metadata": {},
   "source": [
    "### Methodes check, release and get_size"
   ]
  },
  {
   "cell_type": "code",
   "execution_count": null,
   "id": "7fffbd02-e0b3-41e7-aa55-1252338639c7",
   "metadata": {
    "tags": []
   },
   "outputs": [],
   "source": [
    "cam = Camera()\n",
    "img = cam.get_frame()\n",
    "print('Image size:',cam.get_size(),'depends on camera if not specified.') \n",
    "print('Check before release of camera:',cam.check())\n",
    "cam.release()\n",
    "print('Check after release of camera:',cam.check())"
   ]
  },
  {
   "cell_type": "markdown",
   "id": "d39d67d5-f30d-4109-8405-09a77a788352",
   "metadata": {
    "tags": []
   },
   "source": [
    "### Initial parameter (flip)"
   ]
  },
  {
   "cell_type": "code",
   "execution_count": null,
   "id": "1e8c8806-d882-403a-9421-33f3c174839d",
   "metadata": {
    "tags": []
   },
   "outputs": [],
   "source": [
    "cam = Camera(flip = False)\n",
    "\n",
    "print('Image size:',cam.get_size())\n",
    "img = cam.get_frame()\n",
    "print('Shape of NumPy-Array:',img.shape)\n",
    "cam.release()\n",
    "\n",
    "plt.imshow(img)"
   ]
  },
  {
   "cell_type": "markdown",
   "id": "2dbef7a8-65ce-4d7b-89d1-f916b1768eed",
   "metadata": {},
   "source": [
    "### Initial parameter (colorspace='rgb')"
   ]
  },
  {
   "cell_type": "code",
   "execution_count": null,
   "id": "7d22a025-53ac-444d-b417-e578f7d9f5b6",
   "metadata": {
    "tags": []
   },
   "outputs": [],
   "source": [
    "cam = Camera(\n",
    "            #flip = False,\n",
    "            colorspace = 'rgb'\n",
    "            )\n",
    "\n",
    "print('Image size:',cam.get_size())\n",
    "img = cam.get_frame()\n",
    "print('Shape of NumPy-Array:',img.shape)\n",
    "cam.release()\n",
    "\n",
    "plt.imshow(img)"
   ]
  },
  {
   "cell_type": "markdown",
   "id": "b66aa289-0d96-46fa-a537-2775708be55c",
   "metadata": {},
   "source": [
    "### Initial parameter (colorspace='gray')"
   ]
  },
  {
   "cell_type": "code",
   "execution_count": null,
   "id": "93bd571a-3fa6-44f8-ae56-6aa65b7eb19a",
   "metadata": {
    "tags": []
   },
   "outputs": [],
   "source": [
    "cam = Camera(\n",
    "            #flip = False,\n",
    "            colorspace = 'gray'\n",
    "            )\n",
    "\n",
    "print('Image size:',cam.get_size())\n",
    "img = cam.get_frame()\n",
    "print('Shape of NumPy-Array:',img.shape)\n",
    "cam.release()\n",
    "\n",
    "plt.imshow(img,cmap='gray')"
   ]
  },
  {
   "cell_type": "markdown",
   "id": "43773b54-11c1-4ef1-a66b-0c1077195a2e",
   "metadata": {},
   "source": [
    "### Initial parameter (height,width)\n",
    "\n",
    "Note: Some camera do not support a free choice of height and width. When trying to set width or height, they default to supported formats. This does not concern the camera used on the RPi! "
   ]
  },
  {
   "cell_type": "code",
   "execution_count": null,
   "id": "47cf2053-289c-4512-8e87-13c91e69ee4e",
   "metadata": {
    "tags": []
   },
   "outputs": [],
   "source": [
    "cam = Camera(\n",
    "            height = 48, # !\n",
    "            width = 64,  # !\n",
    "            #flip = False,\n",
    "            colorspace='rgb',\n",
    "            ) #default ist bgr\n",
    "\n",
    "print('Image size:',cam.get_size())\n",
    "img = cam.get_frame()\n",
    "print('Shape of NumPy-Array:',img.shape)\n",
    "cam.release()\n",
    "\n",
    "plt.imshow(img)"
   ]
  },
  {
   "cell_type": "markdown",
   "id": "a29f4b94-ad86-4b2f-b842-53afcfc1334f",
   "metadata": {},
   "source": [
    "### Inital parameter (skip_frame)\n",
    "\n",
    "Check whether a change in the setup of an image is reflexed in the next frame from the camera.\n",
    "If not the video buffer of the camera has to be emptied by usage of skip_frame."
   ]
  },
  {
   "cell_type": "code",
   "execution_count": null,
   "id": "12d06733-c9f0-498c-8e71-75a2feed4398",
   "metadata": {
    "tags": []
   },
   "outputs": [],
   "source": [
    "cam = Camera(devicenumber = 0,\n",
    "            buffersize = 10,\n",
    "            skip_frame = 0,\n",
    "            height = 480,\n",
    "            width = 640,\n",
    "            flip = True,\n",
    "            colorspace = 'rgb')\n",
    "\n",
    "img = cam.get_frame()\n",
    "plt.imshow(img)"
   ]
  },
  {
   "cell_type": "code",
   "execution_count": null,
   "id": "ed352e91-d28f-4695-96ad-4b0990cf6e50",
   "metadata": {
    "tags": []
   },
   "outputs": [],
   "source": [
    "img = cam.get_frame()\n",
    "plt.imshow(img)"
   ]
  },
  {
   "cell_type": "code",
   "execution_count": null,
   "id": "4581f381-630f-4154-ad66-1cfea29fa11a",
   "metadata": {
    "tags": []
   },
   "outputs": [],
   "source": [
    "cam.release()"
   ]
  },
  {
   "cell_type": "markdown",
   "id": "29b803d7-560f-4aa5-bc95-273d85d269e4",
   "metadata": {},
   "source": [
    "### OpenCV only"
   ]
  },
  {
   "cell_type": "code",
   "execution_count": null,
   "id": "5ebbb558-9271-4995-abb1-9ab07747efbc",
   "metadata": {},
   "outputs": [],
   "source": [
    "import cv2\n",
    "vc = cv2.VideoCapture(0)\n",
    "ret,frame = vc.read()\n",
    "print(ret)\n",
    "plt.imshow(frame)"
   ]
  },
  {
   "cell_type": "code",
   "execution_count": null,
   "id": "e6824dd4-8a7e-4803-82a2-3cdd29459e5b",
   "metadata": {},
   "outputs": [],
   "source": [
    "ret,frame = vc.read()\n",
    "plt.imshow(frame)"
   ]
  },
  {
   "cell_type": "code",
   "execution_count": null,
   "id": "edb718ec-f362-48a2-bb06-157c2f0a529d",
   "metadata": {},
   "outputs": [],
   "source": [
    "vc.release()"
   ]
  },
  {
   "cell_type": "code",
   "execution_count": null,
   "id": "9e6fdff8-58bd-4a51-87de-066163b5a75b",
   "metadata": {},
   "outputs": [],
   "source": []
  }
 ],
 "metadata": {
  "kernelspec": {
   "display_name": "Python 3 (ipykernel)",
   "language": "python",
   "name": "python3"
  },
  "language_info": {
   "codemirror_mode": {
    "name": "ipython",
    "version": 3
   },
   "file_extension": ".py",
   "mimetype": "text/x-python",
   "name": "python",
   "nbconvert_exporter": "python",
   "pygments_lexer": "ipython3",
   "version": "3.7.3"
  }
 },
 "nbformat": 4,
 "nbformat_minor": 5
}
