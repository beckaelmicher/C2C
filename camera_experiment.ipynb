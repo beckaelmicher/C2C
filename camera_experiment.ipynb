{
 "cells": [
  {
   "cell_type": "markdown",
   "id": "d984f1f8-fe56-4747-8706-5834d1c06f67",
   "metadata": {},
   "source": [
    "## Demo Class Camera"
   ]
  },
  {
   "cell_type": "code",
   "execution_count": 1,
   "id": "e7564799",
   "metadata": {},
   "outputs": [],
   "source": [
    "import matplotlib.pylab as plt\n",
    "import numpy as np\n",
    "# from cv2 import putText,imencode,FONT_HERSHEY_SIMPLEX,LINE_4,resize, Canny, addWEight\n",
    "import cv2\n",
    "import time\n",
    "import threading\n",
    "import os\n",
    "# append system.path with the folder containing basisklassen_cam,.py\n",
    "import sys\n",
    "sys.path.append('./../Software')\n",
    "from basisklassen_cam import Camera\n",
    "import ipywidgets as widgets\n",
    "from IPython.display import display"
   ]
  },
  {
   "cell_type": "code",
   "execution_count": null,
   "id": "00b36615-f4ff-4c9a-963e-32f1b4b7b6f4",
   "metadata": {
    "tags": []
   },
   "outputs": [],
   "source": [
    "Camera?"
   ]
  },
  {
   "cell_type": "markdown",
   "id": "29b803d7-560f-4aa5-bc95-273d85d269e4",
   "metadata": {},
   "source": [
    "### OpenCV only"
   ]
  },
  {
   "cell_type": "code",
   "execution_count": null,
   "id": "5ebbb558-9271-4995-abb1-9ab07747efbc",
   "metadata": {},
   "outputs": [],
   "source": [
    "import cv2\n",
    "vc = cv2.VideoCapture(0)\n",
    "ret,frame = vc.read()\n",
    "frame = cv2.flip(frame,-1)\n",
    "frame = cv2.cvtColor(frame,cv2.COLOR_BGR2GRAY)\n",
    "threshold=60\n",
    "ret,frame = cv2.threshold(frame,threshold,1,cv2.THRESH_BINARY)   # gibt threshold und Resultat zurück\n",
    "frame = frame[200:480,0:640].copy()\n",
    "print(ret)\n",
    "plt.imshow(frame, cmap='gray')\n",
    "\n"
   ]
  },
  {
   "cell_type": "code",
   "execution_count": null,
   "id": "e6824dd4-8a7e-4803-82a2-3cdd29459e5b",
   "metadata": {},
   "outputs": [],
   "source": [
    "imgTemplate = frame1[100:170,50:570].copy()\n",
    "# threshold=10\n",
    "# ret,imgTemplate = cv2.threshold(imgTemplate,threshold,1,cv2.THRESH_BINARY)   # gibt threshold und Resultat zurück\n",
    "plt.imshow(imgTemplate,cmap='gray')\n",
    "print('Template',type(imgTemplate),imgTemplate.shape)\n",
    "\n",
    "\n"
   ]
  },
  {
   "cell_type": "code",
   "execution_count": null,
   "id": "e9fcbe38",
   "metadata": {},
   "outputs": [],
   "source": [
    "res = cv2.matchTemplate(frame1, imgTemplate,cv2.TM_SQDIFF) \n",
    "min_val, max_val, min_loc, max_loc = cv2.minMaxLoc(res)\n",
    "print(min_val, max_val, min_loc, max_loc)\n",
    "\n",
    "top_left = min_loc\n",
    "\n",
    "#-------------------------\n",
    "# Zeichnen der Boundary Box\n",
    "ht,wt = imgTemplate.shape\n",
    "bottom_right = (top_left[0] + wt, top_left[1] + ht)\n",
    "img3=cv2.rectangle(frame.copy(), top_left, bottom_right, (255,0,0), 3)\n",
    "#img3 = cv2.cvtColor(img3,cv2.COLOR_BGR2RGB)\n",
    "\n",
    "plt.imshow(img3, cmap='gray')\n",
    "print(top_left)\n",
    "print(bottom_right)\n",
    "\n"
   ]
  },
  {
   "cell_type": "code",
   "execution_count": null,
   "id": "4581f381-630f-4154-ad66-1cfea29fa11a",
   "metadata": {
    "tags": []
   },
   "outputs": [],
   "source": [
    "vc.release()"
   ]
  }
 ],
 "metadata": {
  "kernelspec": {
   "display_name": "Python 3 (ipykernel)",
   "language": "python",
   "name": "python3"
  },
  "language_info": {
   "codemirror_mode": {
    "name": "ipython",
    "version": 3
   },
   "file_extension": ".py",
   "mimetype": "text/x-python",
   "name": "python",
   "nbconvert_exporter": "python",
   "pygments_lexer": "ipython3",
   "version": "3.7.3"
  }
 },
 "nbformat": 4,
 "nbformat_minor": 5
}
