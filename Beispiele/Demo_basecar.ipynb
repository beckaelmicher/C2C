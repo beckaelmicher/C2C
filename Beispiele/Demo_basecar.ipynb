{
 "cells": [
  {
   "cell_type": "markdown",
   "id": "c9201479-5cb0-4f79-935a-d18dc1e010a5",
   "metadata": {},
   "source": [
    "# Demo Class BaseCar"
   ]
  },
  {
   "cell_type": "code",
   "execution_count": null,
   "id": "32f9e9a7-1fa5-4320-93bf-b833a86e7c48",
   "metadata": {},
   "outputs": [],
   "source": [
    "from basecar import BaseCar\n",
    "import time"
   ]
  },
  {
   "cell_type": "code",
   "execution_count": null,
   "id": "95b4b634-88b4-42e8-9a79-d6d10e5ebc70",
   "metadata": {},
   "outputs": [],
   "source": [
    "dir(BaseCar)"
   ]
  },
  {
   "cell_type": "code",
   "execution_count": null,
   "id": "eb681410-8a3d-40ef-bf85-a9060e226cd9",
   "metadata": {},
   "outputs": [],
   "source": [
    "BaseCar?"
   ]
  },
  {
   "cell_type": "markdown",
   "id": "8ac427c6-b1bd-4537-99d9-5a4e8cd40e22",
   "metadata": {
    "tags": []
   },
   "source": [
    "##### Initialisation BaseCar (data ,is_driving, status)"
   ]
  },
  {
   "cell_type": "code",
   "execution_count": null,
   "id": "ece2c3ea-78b3-4a43-b0bc-10cb8e1b5eae",
   "metadata": {},
   "outputs": [],
   "source": [
    "# just a helper funtion to create a instance of BaseCar\n",
    "def init_helper():\n",
    "    car = BaseCar(config='config.json')\n",
    "    print(' - config data',car.data)\n",
    "    print(' - status',car.get_status())\n",
    "    return car"
   ]
  },
  {
   "cell_type": "code",
   "execution_count": null,
   "id": "5ba48499-a754-4c21-937c-0687853a4453",
   "metadata": {},
   "outputs": [],
   "source": [
    "car = init_helper()"
   ]
  },
  {
   "cell_type": "markdown",
   "id": "1fb17400-78a2-472d-b6b1-70b6f1e7a271",
   "metadata": {
    "tags": []
   },
   "source": [
    "##### Property steering_angle"
   ]
  },
  {
   "cell_type": "code",
   "execution_count": null,
   "id": "efba9211-dc4e-444f-89c5-b77482c763f2",
   "metadata": {},
   "outputs": [],
   "source": [
    "car.steering_angle = 67\n",
    "print(car.steering_angle)"
   ]
  },
  {
   "cell_type": "code",
   "execution_count": null,
   "id": "dcd95956-aa34-4eba-bf1f-c16e2e27f1dc",
   "metadata": {},
   "outputs": [],
   "source": [
    "# correction of steering angle to min/max values defined by FrontWheels._turning_max\n",
    "# avoids damange on the car!\n",
    "car.steering_angle = 136 # will be corrected to 135\n",
    "print(car.steering_angle)\n",
    "car.steering_angle = 35 # will be corrected to 45\n",
    "print(car.steering_angle)"
   ]
  },
  {
   "cell_type": "code",
   "execution_count": null,
   "id": "2309a161-8303-4672-96b5-4f443e9d37be",
   "metadata": {},
   "outputs": [],
   "source": [
    "car.steering_angle = 91\n",
    "try: \n",
    "    car.steering_angle = 'hi' # causes ValueError\n",
    "except ValueError:\n",
    "    print('ValueError catched')\n",
    "print(car.steering_angle)"
   ]
  },
  {
   "cell_type": "code",
   "execution_count": null,
   "id": "9754c8fb-f8e3-4e3c-8342-4d6166b152c7",
   "metadata": {},
   "outputs": [],
   "source": [
    "car = init_helper()\n",
    "for i in range(45,146,10):\n",
    "    print(i)\n",
    "    car.steering_angle = i\n",
    "    print(i,car.steering_angle,car.get_status())\n",
    "    time.sleep(.1)\n",
    "car.steering_angle = 90"
   ]
  },
  {
   "cell_type": "markdown",
   "id": "2bb73a8a-8be7-45ad-bfad-927ce0c16c20",
   "metadata": {},
   "source": [
    "###### correction to values between 45 and 135"
   ]
  },
  {
   "cell_type": "code",
   "execution_count": null,
   "id": "5032f90e-105f-4235-adfb-342d97dba96b",
   "metadata": {},
   "outputs": [],
   "source": [
    "car.steering_angle = 90\n",
    "print(car.get_status())\n",
    "car.steering_angle = 30\n",
    "print(car.get_status())\n",
    "car.steering_angle = 136\n",
    "print(car.get_status())\n",
    "car.steering_angle = 90\n",
    "print(car.get_status())"
   ]
  },
  {
   "cell_type": "markdown",
   "id": "0fc4e421-5689-491b-a9b9-eaa30e63c1fe",
   "metadata": {
    "tags": []
   },
   "source": [
    "##### Property speed"
   ]
  },
  {
   "cell_type": "code",
   "execution_count": null,
   "id": "04aeb7ba-01b6-40ff-a79c-8c5d6bffdaf5",
   "metadata": {},
   "outputs": [],
   "source": [
    "car = init_helper()\n",
    "# setting speed with direction=0 -> drive forward\n",
    "car.speed = 30\n",
    "print(car.speed,car.get_status())\n",
    "time.sleep(1)\n",
    "car.speed = 0\n",
    "print(car.speed,car.get_status())\n",
    "time.sleep(1)"
   ]
  },
  {
   "cell_type": "code",
   "execution_count": null,
   "id": "7ab20ef4-c656-4885-b4e2-9eb66fba9218",
   "metadata": {},
   "outputs": [],
   "source": [
    "car = init_helper()\n",
    "# setting speed with direction=-1 -> drive backward\n",
    "car.direction = -1\n",
    "car.speed = 30\n",
    "print(car.speed,car.get_status())\n",
    "time.sleep(1)\n",
    "car.speed = 0\n",
    "print(car.speed,car.get_status())\n",
    "time.sleep(1)"
   ]
  },
  {
   "cell_type": "code",
   "execution_count": null,
   "id": "0ed11f3d-4412-4105-8415-1a7e7cee825f",
   "metadata": {},
   "outputs": [],
   "source": [
    "car = init_helper()\n",
    "# correction of  value of speed if value is out of allowed interval\n",
    "car.speed = 101\n",
    "print(car.speed,car.get_status())\n",
    "time.sleep(1)\n",
    "car.speed = -1\n",
    "print(car.speed,car.get_status())\n",
    "time.sleep(1)\n",
    "car.speed = 0\n",
    "print(car.speed,car.get_status())"
   ]
  },
  {
   "cell_type": "code",
   "execution_count": null,
   "id": "251aba73-0070-4bc6-9985-afa1fad55b8e",
   "metadata": {},
   "outputs": [],
   "source": [
    "car = init_helper()\n",
    "# ValueError\n",
    "car.speed = 30\n",
    "try:\n",
    "    car.speed = 'as'\n",
    "except ValueError:\n",
    "    print('ValueError catched')\n",
    "print(car.speed)\n",
    "car.speed = 0 # stops BaseCar"
   ]
  },
  {
   "cell_type": "markdown",
   "id": "4e218441-0d96-4bf2-a6de-2d1ee597723a",
   "metadata": {},
   "source": [
    "##### Methode drive"
   ]
  },
  {
   "cell_type": "code",
   "execution_count": null,
   "id": "bba061fc-d27f-4498-bb2e-ee754e26f573",
   "metadata": {},
   "outputs": [],
   "source": [
    "car = init_helper()\n",
    "# changing the speed and stopping\n",
    "car.drive(20)\n",
    "print(car.speed,car.get_status())\n",
    "time.sleep(1)\n",
    "car.drive(30,1)\n",
    "print(car.speed,car.get_status())\n",
    "time.sleep(1)\n",
    "car.drive(0,1)\n",
    "print(car.speed,car.get_status())"
   ]
  },
  {
   "cell_type": "markdown",
   "id": "21575036-9c03-4a91-ae44-60ae304a7b91",
   "metadata": {},
   "source": [
    "##### Methode drive backwards"
   ]
  },
  {
   "cell_type": "code",
   "execution_count": null,
   "id": "4a0f81d1-9b5c-4f9b-9fe8-c47187b0911b",
   "metadata": {},
   "outputs": [],
   "source": [
    "car = init_helper()\n",
    "\n",
    "car.drive(20,-1)\n",
    "print(car.speed,car.get_status())\n",
    "time.sleep(1)\n",
    "car.drive(30,1)\n",
    "print(car.speed,car.get_status())\n",
    "time.sleep(1)\n",
    "\n",
    "car.drive(0,-1)\n",
    "print(car.speed,car.get_status())"
   ]
  },
  {
   "cell_type": "markdown",
   "id": "db3dd17c-c7b0-4699-8afc-b1f9a930d8e4",
   "metadata": {},
   "source": [
    "##### Methode Direction"
   ]
  },
  {
   "cell_type": "code",
   "execution_count": null,
   "id": "6e6d93bc-b89b-463c-a31a-4c7793e1020b",
   "metadata": {},
   "outputs": [],
   "source": [
    "car = init_helper()\n",
    "\n",
    "car.drive(20,1)\n",
    "print(car.speed,car.get_status())\n",
    "time.sleep(1)\n",
    "car.direction=-1\n",
    "print(car.speed,car.get_status())\n",
    "time.sleep(1)\n",
    "car.direction=1\n",
    "print(car.speed,car.get_status())\n",
    "time.sleep(1)\n",
    "car.speed=0\n",
    "print(car.speed,car.get_status())"
   ]
  },
  {
   "cell_type": "code",
   "execution_count": null,
   "id": "734c2ec4-b740-4879-9b64-3255789d51de",
   "metadata": {},
   "outputs": [],
   "source": [
    "car = init_helper()\n",
    "car.drive(30,-1)\n",
    "try:\n",
    "    car.drive(30,'string')\n",
    "except:\n",
    "    print('ValueError catched')\n",
    "print(car.direction)\n",
    "car.speed = 0"
   ]
  },
  {
   "cell_type": "markdown",
   "id": "b6bd11c5-b809-490c-b0f3-3b2f5f068cee",
   "metadata": {},
   "source": [
    "##### Methode Stop"
   ]
  },
  {
   "cell_type": "code",
   "execution_count": null,
   "id": "19ba7dcc-20b9-4aca-bf7b-d9e899c3d3d4",
   "metadata": {},
   "outputs": [],
   "source": [
    "car = init_helper()\n",
    "\n",
    "car.drive(20,-1)\n",
    "print(car.speed,car.get_status())\n",
    "time.sleep(1)\n",
    "car.stop()\n",
    "print(car.speed,car.get_status())"
   ]
  },
  {
   "cell_type": "markdown",
   "id": "bb740d42-b36a-4e70-a53d-cb23fc2eae15",
   "metadata": {},
   "source": [
    "##### LogDict\n",
    "Is attached to BaseCar"
   ]
  },
  {
   "cell_type": "code",
   "execution_count": null,
   "id": "480a7eb1-7c07-4221-aa57-9db354d3c935",
   "metadata": {},
   "outputs": [],
   "source": [
    "car = init_helper()\n",
    "print(car.log)\n",
    "print(car.get_log())"
   ]
  },
  {
   "cell_type": "code",
   "execution_count": null,
   "id": "a726937d-231f-4177-8fde-46be8b1fdfbe",
   "metadata": {},
   "outputs": [],
   "source": [
    "# Usage 1\n",
    "car.speed = 30\n",
    "status_to_be_logged = car.get_status()\n",
    "status_to_be_logged.update({'event':'usage 1'}) # additional entry\n",
    "print(status_to_be_logged)\n",
    "car.add_to_log(status_to_be_logged)\n",
    "time.sleep(.1)\n",
    "\n",
    "# Usage 2\n",
    "car.speed = 40\n",
    "car.steering_angle = 50\n",
    "car.direction = -1\n",
    "car.add_to_log(car.get_status())\n",
    "time.sleep(.1)\n",
    "\n",
    "car.add_to_log()\n",
    "time.sleep(.1)\n",
    "\n",
    "# Usage 3\n",
    "status_to_be_logged = car.get_status()\n",
    "s = status_to_be_logged['speed']\n",
    "d = status_to_be_logged['direction']\n",
    "a = status_to_be_logged['angle']\n",
    "car.add_to_log(speed=s, angle=a, direction=d,event='usage 3')\n",
    "time.sleep(.1)\n",
    "\n",
    "# Usage 4\n",
    "car.add_to_log(car.get_status(),event='usage 4') # add an additional entry\n",
    "time.sleep(.1)\n",
    "\n",
    "# Usage 6\n",
    "car.add_to_log(car.get_status(),timestamp='Hans',event='usage 5') #overwriting ts from get_status\n",
    "time.sleep(.1)\n",
    "\n",
    "car.stop()\n",
    "car.add_to_log(car.get_status())\n",
    "log = car.get_log()\n",
    "log"
   ]
  },
  {
   "cell_type": "code",
   "execution_count": null,
   "id": "b3df0e2f-d51a-4121-a1df-9058b7efe202",
   "metadata": {},
   "outputs": [],
   "source": [
    "import pandas as pd\n",
    "pd.DataFrame(log)"
   ]
  },
  {
   "cell_type": "code",
   "execution_count": null,
   "id": "7d3409f5-efda-48af-8b67-b53ae1571c96",
   "metadata": {},
   "outputs": [],
   "source": [
    "#car = init_helper()\n",
    "car.get_log_as_dataframe()"
   ]
  },
  {
   "cell_type": "code",
   "execution_count": null,
   "id": "c42d5435-4e3b-4cee-8bdd-653a44bccf09",
   "metadata": {},
   "outputs": [],
   "source": [
    "car.save_log_to_file('trip1')"
   ]
  },
  {
   "cell_type": "code",
   "execution_count": null,
   "id": "0d9d57f9-faaf-4ae1-a7a2-9393d1dbcbfb",
   "metadata": {},
   "outputs": [],
   "source": [
    "car.stop()"
   ]
  },
  {
   "cell_type": "markdown",
   "id": "de626041-ae77-4d6c-8ca2-a16225067a8d",
   "metadata": {
    "tags": []
   },
   "source": [
    "### shake_front_wheels"
   ]
  },
  {
   "cell_type": "code",
   "execution_count": null,
   "id": "93f5eecf-8bc5-41ae-b665-966fc49d952b",
   "metadata": {},
   "outputs": [],
   "source": [
    "car = init_helper()\n",
    "car.shake_front_wheels(t2w = 1)"
   ]
  },
  {
   "cell_type": "markdown",
   "id": "a134d3b3-c374-45b7-9dd0-64a3b8a76c5c",
   "metadata": {
    "tags": []
   },
   "source": [
    "### Testparcour 1\n",
    "vorwärts und rückwärts fahren"
   ]
  },
  {
   "cell_type": "code",
   "execution_count": null,
   "id": "46b0b2a0-2dd2-408c-8e7e-cc12f05b05be",
   "metadata": {},
   "outputs": [],
   "source": [
    "car = init_helper()\n",
    "car.run_test_drive_1(forward_secs = 3, \n",
    "                 sleep_secs = 1, \n",
    "                 backward_secs = 3, \n",
    "                 speed = 70)"
   ]
  },
  {
   "cell_type": "markdown",
   "id": "c587f075-b609-4f50-9415-e5cf07824db7",
   "metadata": {},
   "source": [
    "### Testparcour  2\n",
    "Kreisfahrt"
   ]
  },
  {
   "cell_type": "code",
   "execution_count": null,
   "id": "6655707a-6970-43f5-8803-b0d7ac7e0052",
   "metadata": {},
   "outputs": [],
   "source": [
    "car = init_helper()\n",
    "car.run_test_drive_2(forward_secs = 2,\n",
    "                 circle_secs = 4,\n",
    "                 sleep_secs = 1,\n",
    "                 angles = [45,135], \n",
    "                 speed = 70)"
   ]
  }
 ],
 "metadata": {
  "kernelspec": {
   "display_name": "Python 3 (ipykernel)",
   "language": "python",
   "name": "python3"
  },
  "language_info": {
   "codemirror_mode": {
    "name": "ipython",
    "version": 3
   },
   "file_extension": ".py",
   "mimetype": "text/x-python",
   "name": "python",
   "nbconvert_exporter": "python",
   "pygments_lexer": "ipython3",
   "version": "3.7.3"
  }
 },
 "nbformat": 4,
 "nbformat_minor": 5
}
